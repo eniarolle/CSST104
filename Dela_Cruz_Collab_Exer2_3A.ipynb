{
  "nbformat": 4,
  "nbformat_minor": 0,
  "metadata": {
    "colab": {
      "provenance": []
    },
    "kernelspec": {
      "name": "python3",
      "display_name": "Python 3"
    },
    "language_info": {
      "name": "python"
    }
  },
  "cells": [
    {
      "cell_type": "markdown",
      "source": [
        " Install automata-lib**"
      ],
      "metadata": {
        "id": "UWZC8OjpDbav"
      }
    },
    {
      "cell_type": "code",
      "execution_count": null,
      "metadata": {
        "id": "Or-PR41vCzKL",
        "colab": {
          "base_uri": "https://localhost:8080/"
        },
        "outputId": "f01b26fa-46e6-447e-bfe2-343f06654f06"
      },
      "outputs": [
        {
          "output_type": "stream",
          "name": "stdout",
          "text": [
            "Collecting automata-lib\n",
            "  Downloading automata_lib-8.2.0-py3-none-any.whl (123 kB)\n",
            "\u001b[2K     \u001b[90m━━━━━━━━━━━━━━━━━━━━━━━━━━━━━━━━━━━━━━━━\u001b[0m \u001b[32m123.2/123.2 kB\u001b[0m \u001b[31m1.1 MB/s\u001b[0m eta \u001b[36m0:00:00\u001b[0m\n",
            "\u001b[?25hRequirement already satisfied: networkx>=2.6.2 in /usr/local/lib/python3.10/dist-packages (from automata-lib) (3.2.1)\n",
            "Requirement already satisfied: frozendict>=2.3.4 in /usr/local/lib/python3.10/dist-packages (from automata-lib) (2.4.0)\n",
            "Requirement already satisfied: typing-extensions>=4.5.0 in /usr/local/lib/python3.10/dist-packages (from automata-lib) (4.5.0)\n",
            "Collecting cached-method>=0.1.0 (from automata-lib)\n",
            "  Downloading cached_method-0.1.0-py3-none-any.whl (4.2 kB)\n",
            "Installing collected packages: cached-method, automata-lib\n",
            "Successfully installed automata-lib-8.2.0 cached-method-0.1.0\n"
          ]
        }
      ],
      "source": [
        "pip install automata-lib"
      ]
    },
    {
      "cell_type": "markdown",
      "source": [
        "**1. Import Library**"
      ],
      "metadata": {
        "id": "mJlJej2jDvdL"
      }
    },
    {
      "cell_type": "code",
      "source": [
        "  from automata.fa.dfa import DFA"
      ],
      "metadata": {
        "id": "if9DRBEfD16q"
      },
      "execution_count": null,
      "outputs": []
    },
    {
      "cell_type": "markdown",
      "source": [
        "**2. Define DFA, states, transition, start, final, input symbols**"
      ],
      "metadata": {
        "id": "jzNfu30GEGS1"
      }
    },
    {
      "cell_type": "code",
      "source": [
        "dfa = DFA(\n",
        "    states={'q0','q1'},\n",
        "    input_symbols={'0','1'},\n",
        "    transitions ={\n",
        "        'q0':{'0':'q0','1':'q1'},\n",
        "        'q1':{'0':'q1','1':'q0'}\n",
        "    },\n",
        "    initial_state= 'q0',\n",
        "    final_states= {'q0'}\n",
        ")"
      ],
      "metadata": {
        "id": "6mCf-CknEUD5"
      },
      "execution_count": null,
      "outputs": []
    },
    {
      "cell_type": "markdown",
      "source": [
        "**3. Define the function is_accepted**"
      ],
      "metadata": {
        "id": "lLZ_7kt5GGwo"
      }
    },
    {
      "cell_type": "code",
      "source": [
        "def is_accepted(input_str):\n",
        "  return dfa.accepts_input(input_str)"
      ],
      "metadata": {
        "id": "sNM7N9rBGKf1"
      },
      "execution_count": null,
      "outputs": []
    },
    {
      "cell_type": "markdown",
      "source": [
        "**4. Test the DFA**"
      ],
      "metadata": {
        "id": "xbInxFm0GUNC"
      }
    },
    {
      "cell_type": "code",
      "source": [
        "test_strings = ['1001','1010','001','101001','01','10','111','000','011','0101']\n",
        "\n",
        "for test_str in test_strings:\n",
        "  if is_accepted(test_str):\n",
        "    print(f'String \"{test_str}\" is accepted.')\n",
        "  else:\n",
        "      print(f'String \"{test_str}\" is not accepted.')"
      ],
      "metadata": {
        "colab": {
          "base_uri": "https://localhost:8080/"
        },
        "id": "CXb72MV0GcCl",
        "outputId": "40b1118f-003f-403a-9578-da3eba5a9b3c"
      },
      "execution_count": null,
      "outputs": [
        {
          "output_type": "stream",
          "name": "stdout",
          "text": [
            "String \"1001\" is accepted.\n",
            "String \"1010\" is accepted.\n",
            "String \"001\" is not accepted.\n",
            "String \"101001\" is not accepted.\n",
            "String \"01\" is not accepted.\n",
            "String \"10\" is not accepted.\n",
            "String \"111\" is not accepted.\n",
            "String \"000\" is accepted.\n",
            "String \"011\" is accepted.\n",
            "String \"0101\" is accepted.\n"
          ]
        }
      ]
    }
  ]
}
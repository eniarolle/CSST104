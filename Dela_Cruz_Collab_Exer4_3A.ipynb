{
  "nbformat": 4,
  "nbformat_minor": 0,
  "metadata": {
    "colab": {
      "provenance": []
    },
    "kernelspec": {
      "name": "python3",
      "display_name": "Python 3"
    },
    "language_info": {
      "name": "python"
    }
  },
  "cells": [
    {
      "cell_type": "markdown",
      "source": [
        "**Pushdown Automation Diagram Generation in Python using graphviz**"
      ],
      "metadata": {
        "id": "IBmHh2BIi2w1"
      }
    },
    {
      "cell_type": "markdown",
      "source": [
        "**Installing Libraries**"
      ],
      "metadata": {
        "id": "HFl4qfgcjD0I"
      }
    },
    {
      "cell_type": "code",
      "execution_count": null,
      "metadata": {
        "colab": {
          "base_uri": "https://localhost:8080/"
        },
        "id": "zp_c5DzaiF8c",
        "outputId": "cfab9663-5b6d-44c4-d1ab-3bb1bc456d5a"
      },
      "outputs": [
        {
          "output_type": "stream",
          "name": "stdout",
          "text": [
            "Requirement already satisfied: graphviz in /usr/local/lib/python3.10/dist-packages (0.20.1)\n"
          ]
        }
      ],
      "source": [
        "!pip install graphviz"
      ]
    },
    {
      "cell_type": "markdown",
      "source": [
        "**1. import Libraries**"
      ],
      "metadata": {
        "id": "EfXXUMR7jbJx"
      }
    },
    {
      "cell_type": "code",
      "source": [
        "from graphviz import Digraph"
      ],
      "metadata": {
        "id": "wtWC7gFEjeFI"
      },
      "execution_count": null,
      "outputs": []
    },
    {
      "cell_type": "markdown",
      "source": [
        "**2. PDA Class Definition**"
      ],
      "metadata": {
        "id": "nsruQ3Lmjq3n"
      }
    },
    {
      "cell_type": "code",
      "source": [
        "class PDA:\n",
        "  def __init__(self,states, input_symbols,stack_symbols, transitions, start_state, start_stack_symbol, accept_states):\n",
        "    self.states = states\n",
        "    self.input_symbols = input_symbols\n",
        "    self.stack_symbols = stack_symbols\n",
        "    self.transitions = transitions\n",
        "    self.start_state = start_state\n",
        "    self.start_stack_symbol = start_stack_symbol\n",
        "    self.accept_states = accept_states\n",
        "\n",
        "\n",
        "  def generate_diagram(self):\n",
        "    pda_diagram = Digraph(format ='png')\n",
        "\n",
        "    # Creating Accepting States\n",
        "    pda_diagram.attr('node',shape = 'doublecircle')\n",
        "    for state in self.accept_states:\n",
        "      pda_diagram.node(state)\n",
        "\n",
        "    # Creating Non-Accepting States\n",
        "    pda_diagram.attr('node',shape= 'circle')\n",
        "    for state in self.states:\n",
        "      pda_diagram.node(state)\n",
        "\n",
        "    # Adding Start State\n",
        "      pda_diagram.edge('',self.start_state, label='start')\n",
        "\n",
        "    # Adding Transitions\n",
        "      for transition in self.transitions:\n",
        "        start, input_symbol,stack_symbols, end, stack_symbols_to_push= transition\n",
        "        label = f\"{input_symbol}, {stack_symbols} ->{''.join(stack_symbols_to_push)}\"\n",
        "        pda_diagram.edge(start, end, label=label)\n",
        "\n",
        "      return pda_diagram\n",
        "\n",
        "  # Define PDA\n",
        "states = {'q0','q1','q2'}\n",
        "input_symbols = {'a','b'}\n",
        "stack_symbols = {'0','1'}\n",
        "transitions = [\n",
        "('q0','a','0','q1',['1']),\n",
        "('q1','b','1','q2',[]),\n",
        "('q2','b','1','q2',['']),\n",
        "]\n",
        "start_state = 'q0'\n",
        "start_stack_symbol = '0'\n",
        "accept_states = {'q2'}\n",
        "\n",
        "pda = PDA(states, input_symbols, stack_symbols, transitions, start_state, start_stack_symbol, accept_states)\n",
        "pda_diagram = pda.generate_diagram()\n",
        "pda_diagram.render('pda_diagram',view=True)\n"
      ],
      "metadata": {
        "id": "hc8FxHlXj36e",
        "colab": {
          "base_uri": "https://localhost:8080/",
          "height": 35
        },
        "outputId": "4949b58a-8129-472e-fd52-087b9e6267ac"
      },
      "execution_count": null,
      "outputs": [
        {
          "output_type": "execute_result",
          "data": {
            "text/plain": [
              "'pda_diagram.png'"
            ],
            "application/vnd.google.colaboratory.intrinsic+json": {
              "type": "string"
            }
          },
          "metadata": {},
          "execution_count": 3
        }
      ]
    }
  ]
}
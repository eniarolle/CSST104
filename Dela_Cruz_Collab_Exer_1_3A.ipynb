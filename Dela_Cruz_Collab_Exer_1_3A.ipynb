{
  "nbformat": 4,
  "nbformat_minor": 0,
  "metadata": {
    "colab": {
      "provenance": []
    },
    "kernelspec": {
      "name": "python3",
      "display_name": "Python 3"
    },
    "language_info": {
      "name": "python"
    }
  },
  "cells": [
    {
      "cell_type": "markdown",
      "source": [
        "**Creating and Testing a Non-Deterministic Finite Automata (NFA) in Python using automata-lib**"
      ],
      "metadata": {
        "id": "qjqBbaQzmayX"
      }
    },
    {
      "cell_type": "markdown",
      "source": [
        "**1. Install the latest version of Automata Library**"
      ],
      "metadata": {
        "id": "7qQH7ovQmjl9"
      }
    },
    {
      "cell_type": "code",
      "source": [
        "pip install automata-lib"
      ],
      "metadata": {
        "colab": {
          "base_uri": "https://localhost:8080/"
        },
        "id": "webEvVXzmkhx",
        "outputId": "36db45e8-40d7-4f1a-f484-a9e16ad161bd"
      },
      "execution_count": null,
      "outputs": [
        {
          "output_type": "stream",
          "name": "stdout",
          "text": [
            "Collecting automata-lib\n",
            "  Downloading automata_lib-8.2.0-py3-none-any.whl (123 kB)\n",
            "\u001b[2K     \u001b[90m━━━━━━━━━━━━━━━━━━━━━━━━━━━━━━━━━━━━━━━━\u001b[0m \u001b[32m123.2/123.2 kB\u001b[0m \u001b[31m1.2 MB/s\u001b[0m eta \u001b[36m0:00:00\u001b[0m\n",
            "\u001b[?25hRequirement already satisfied: networkx>=2.6.2 in /usr/local/lib/python3.10/dist-packages (from automata-lib) (3.2.1)\n",
            "Requirement already satisfied: frozendict>=2.3.4 in /usr/local/lib/python3.10/dist-packages (from automata-lib) (2.4.0)\n",
            "Requirement already satisfied: typing-extensions>=4.5.0 in /usr/local/lib/python3.10/dist-packages (from automata-lib) (4.5.0)\n",
            "Collecting cached-method>=0.1.0 (from automata-lib)\n",
            "  Downloading cached_method-0.1.0-py3-none-any.whl (4.2 kB)\n",
            "Installing collected packages: cached-method, automata-lib\n",
            "Successfully installed automata-lib-8.2.0 cached-method-0.1.0\n"
          ]
        }
      ]
    },
    {
      "cell_type": "markdown",
      "source": [
        "**2. Import the NFA class from the automata.fa.nfa module**"
      ],
      "metadata": {
        "id": "CmFx8pyymr2p"
      }
    },
    {
      "cell_type": "code",
      "source": [
        "from automata.fa.nfa import NFA"
      ],
      "metadata": {
        "id": "CCfRbbK4mua2"
      },
      "execution_count": null,
      "outputs": []
    },
    {
      "cell_type": "markdown",
      "source": [
        "**3. Define the NFA with its states**\n",
        "\n",
        "*   **states**\n",
        "*   **input symbols**\n",
        "*   **transitions**\n",
        "*   **initial states**\n",
        "*   **final states**"
      ],
      "metadata": {
        "id": "v5uKGpiNm2Vf"
      }
    },
    {
      "cell_type": "code",
      "source": [
        "nfa_example = NFA(\n",
        "    states={'q0','q1','q2'},\n",
        "    input_symbols={'0','1'},\n",
        "    transitions={\n",
        "        'q0':{'0':{'q0','q1'}},\n",
        "        'q1':{'1':{'q2'}},\n",
        "        'q2':{},\n",
        "    },\n",
        "    initial_state='q0',\n",
        "    final_states={'q0','q2'}\n",
        ")"
      ],
      "metadata": {
        "id": "9Iii1yT_klDX"
      },
      "execution_count": null,
      "outputs": []
    },
    {
      "cell_type": "markdown",
      "source": [
        "**4. Define a functions is_accepted to check if a given input string is accepted by the NFA**"
      ],
      "metadata": {
        "id": "iDWOAC3i-apj"
      }
    },
    {
      "cell_type": "code",
      "source": [
        "def is_accepted_example(input_str):\n",
        "  return nfa_example.accepts_input(input_str)"
      ],
      "metadata": {
        "id": "di24cWg0-obF"
      },
      "execution_count": null,
      "outputs": []
    },
    {
      "cell_type": "markdown",
      "source": [
        "**5. Test the NFA with a list of strings**"
      ],
      "metadata": {
        "id": "lPZVHFSx_VGv"
      }
    },
    {
      "cell_type": "code",
      "source": [
        "test_strings = ['001','1010','001','111','0110','0001','1010111','01','10','0011']\n",
        "\n",
        "for test_str in test_strings:\n",
        "  if is_accepted_example(test_str):\n",
        "    print(f'String \"{test_str}\" is accepted.')\n",
        "  else:\n",
        "      print(f'String \"{test_str}\" is not accepted.')"
      ],
      "metadata": {
        "colab": {
          "base_uri": "https://localhost:8080/"
        },
        "id": "FNE83k0U_fRp",
        "outputId": "33c8bfe8-fb66-4857-f2ef-1ef1c347a167"
      },
      "execution_count": null,
      "outputs": [
        {
          "output_type": "stream",
          "name": "stdout",
          "text": [
            "String \"001\" is accepted.\n",
            "String \"1010\" is not accepted.\n",
            "String \"001\" is accepted.\n",
            "String \"111\" is not accepted.\n",
            "String \"0110\" is not accepted.\n",
            "String \"0001\" is accepted.\n",
            "String \"1010111\" is not accepted.\n",
            "String \"01\" is accepted.\n",
            "String \"10\" is not accepted.\n",
            "String \"0011\" is not accepted.\n"
          ]
        }
      ]
    }
  ]
}
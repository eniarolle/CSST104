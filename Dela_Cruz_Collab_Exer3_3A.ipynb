{
  "nbformat": 4,
  "nbformat_minor": 0,
  "metadata": {
    "colab": {
      "provenance": []
    },
    "kernelspec": {
      "name": "python3",
      "display_name": "Python 3"
    },
    "language_info": {
      "name": "python"
    }
  },
  "cells": [
    {
      "cell_type": "markdown",
      "source": [
        "**NFA to DFA Conversion using Epsilon Closure and Subset Construction**"
      ],
      "metadata": {
        "id": "0Ax7ttg6QBlf"
      }
    },
    {
      "cell_type": "markdown",
      "source": [
        "**1. epsilon_closures**"
      ],
      "metadata": {
        "id": "9u-T75UfQKt7"
      }
    },
    {
      "cell_type": "code",
      "execution_count": null,
      "metadata": {
        "id": "n-CmYwb1POJo"
      },
      "outputs": [],
      "source": [
        "def epsilon_closure(states, transitions):\n",
        "  epsilon_states = set(states)\n",
        "  stack = list(states)\n",
        "\n",
        "  while stack:\n",
        "    state = stack.pop()\n",
        "    if 'ε' in transitions[state]:\n",
        "       epsilon_states |= transitions[state]['ε'] - epsilon_states\n",
        "       stack.extend(transitions[state]['ε']- epsilon_states)\n",
        "\n",
        "  return epsilon_states\n"
      ]
    },
    {
      "cell_type": "markdown",
      "source": [
        "**2. move(states, symbol, transitions)**"
      ],
      "metadata": {
        "id": "RafzEHhKSfBG"
      }
    },
    {
      "cell_type": "code",
      "source": [
        "def move(states, symbol, transitions):\n",
        "  return {s for state in states for s in transitions.get(state, {}).get(symbol, set())}\n"
      ],
      "metadata": {
        "id": "NVzJL9eKSl1U"
      },
      "execution_count": null,
      "outputs": []
    },
    {
      "cell_type": "markdown",
      "source": [
        "**3. NFA to DFA Functions**"
      ],
      "metadata": {
        "id": "LPMYD_OCTFxC"
      }
    },
    {
      "cell_type": "code",
      "source": [
        "def nfa_to_dfa(nfa_states, nfa_transitions):\n",
        "  dfa_states = []\n",
        "  dfa_transitions = {}\n",
        "  queue = []\n",
        "\n",
        "  q0_epsilon_closure = epsilon_closure({'q0'},nfa_transitions)\n",
        "  dfa_states.append(q0_epsilon_closure)\n",
        "  queue.append(q0_epsilon_closure)\n",
        "\n",
        "  while queue:\n",
        "    current_states = queue.pop(0)\n",
        "\n",
        "    for symbol in nfa_states['input_symbols']:\n",
        "      next_states = epsilon_closure(move(current_states,symbol,nfa_transitions),nfa_transitions)\n",
        "      if next_states:\n",
        "        if next_states not in dfa_states:\n",
        "          dfa_states.append(next_states)\n",
        "          queue.append(next_states)\n",
        "          dfa_transitions.setdefault(tuple(current_states),{})[symbol] = next_states\n",
        "\n",
        "          return dfa_states, dfa_transitions\n"
      ],
      "metadata": {
        "id": "wRXLUmULTIOK"
      },
      "execution_count": null,
      "outputs": []
    },
    {
      "cell_type": "markdown",
      "source": [
        "**4. NFA states and transitions**"
      ],
      "metadata": {
        "id": "Eb939X-GVAVv"
      }
    },
    {
      "cell_type": "code",
      "source": [
        "nfa_states = {\n",
        "    'input_symbols':{'0','1'},\n",
        "\n",
        "}\n",
        "nfa_transitions = {\n",
        "    'q0':{'0':{'q0','q1'},'1':{'q1'}},\n",
        "    'q1': {'1':{'q0','q1'}},\n",
        "}"
      ],
      "metadata": {
        "id": "VNuZlhXlVDIx"
      },
      "execution_count": null,
      "outputs": []
    },
    {
      "cell_type": "markdown",
      "source": [
        "**5. Convert NFA to DFA**"
      ],
      "metadata": {
        "id": "7DDTANKOVylV"
      }
    },
    {
      "cell_type": "code",
      "source": [
        "dfa_states,dfa_transitions = nfa_to_dfa(nfa_states, nfa_transitions)"
      ],
      "metadata": {
        "id": "wIUP654cV-9G"
      },
      "execution_count": null,
      "outputs": []
    },
    {
      "cell_type": "markdown",
      "source": [
        "**6. Display DFA States and Transitions**"
      ],
      "metadata": {
        "id": "ncCww19PWnfh"
      }
    },
    {
      "cell_type": "code",
      "source": [
        "print(\"DFA States:\", dfa_states)\n",
        "print('DFA Transitions:', dfa_transitions)"
      ],
      "metadata": {
        "colab": {
          "base_uri": "https://localhost:8080/"
        },
        "id": "RsVyU7oIWvSM",
        "outputId": "1e6e3e85-590a-49e8-dfe6-76bbaef3adf8"
      },
      "execution_count": null,
      "outputs": [
        {
          "output_type": "stream",
          "name": "stdout",
          "text": [
            "DFA States: [{'q0'}, {'q1'}, {'q1', 'q0'}, frozenset({'dead'})]\n",
            "DFA Transitions: {('q0',): {'1': {'q1'}, '0': {'q1', 'q0'}}, ('q1',): {'1': {'q1', 'q0'}, '0': frozenset({'dead'})}, ('q1', 'q0'): {'1': {'q1', 'q0'}, '0': {'q1', 'q0'}}, ('dead',): {'1': frozenset({'dead'}), '0': frozenset({'dead'})}}\n"
          ]
        }
      ]
    }
  ]
}
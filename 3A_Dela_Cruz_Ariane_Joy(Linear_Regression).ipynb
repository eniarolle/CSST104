{
  "nbformat": 4,
  "nbformat_minor": 0,
  "metadata": {
    "colab": {
      "provenance": []
    },
    "kernelspec": {
      "name": "python3",
      "display_name": "Python 3"
    },
    "language_info": {
      "name": "python"
    }
  },
  "cells": [
    {
      "cell_type": "markdown",
      "source": [
        "# **1. Import Libraries**"
      ],
      "metadata": {
        "id": "AfQAhKYbvhHa"
      }
    },
    {
      "cell_type": "code",
      "execution_count": null,
      "metadata": {
        "id": "df8URUfyvgWu"
      },
      "outputs": [],
      "source": [
        "import pandas as pd\n",
        "import matplotlib.pyplot as plt\n",
        "import numpy as np\n",
        "from sklearn.linear_model import LinearRegression\n",
        "from sklearn.metrics import mean_squared_error\n",
        "from sklearn.model_selection import train_test_split"
      ]
    },
    {
      "cell_type": "markdown",
      "source": [
        "# **2. Preparing the Data**"
      ],
      "metadata": {
        "id": "E6z-jlEovxXu"
      }
    },
    {
      "cell_type": "code",
      "source": [
        "data = pd.read_csv('/content/Lesson_4_student_grades_dataset.csv')\n",
        "data.head()"
      ],
      "metadata": {
        "colab": {
          "base_uri": "https://localhost:8080/",
          "height": 226
        },
        "id": "yHepQLANv5-i",
        "outputId": "e1d26039-175c-467a-cd92-29aee219f8a5"
      },
      "execution_count": null,
      "outputs": [
        {
          "output_type": "execute_result",
          "data": {
            "text/plain": [
              "   Hours_of_Study  Attendance_Percentage  Previous_Exam_Scores  \\\n",
              "0        4.370861              75.553988             63.085284   \n",
              "1        9.556429              86.257028             62.348940   \n",
              "2        7.587945              96.188375             95.312729   \n",
              "3        6.387926              91.966747             62.477310   \n",
              "4        2.404168              94.196834             63.597486   \n",
              "\n",
              "   Extracurricular_Activities  Travel_Time_to_School     Grades  \n",
              "0                           0              24.325977  31.494329  \n",
              "1                           0              50.132016  43.250150  \n",
              "2                           0              59.861895  30.155663  \n",
              "3                           1              11.501300  39.617522  \n",
              "4                           0              54.868293  33.175874  "
            ],
            "text/html": [
              "\n",
              "  <div id=\"df-13a339c3-aaa5-4799-af33-2f2673d732a6\" class=\"colab-df-container\">\n",
              "    <div>\n",
              "<style scoped>\n",
              "    .dataframe tbody tr th:only-of-type {\n",
              "        vertical-align: middle;\n",
              "    }\n",
              "\n",
              "    .dataframe tbody tr th {\n",
              "        vertical-align: top;\n",
              "    }\n",
              "\n",
              "    .dataframe thead th {\n",
              "        text-align: right;\n",
              "    }\n",
              "</style>\n",
              "<table border=\"1\" class=\"dataframe\">\n",
              "  <thead>\n",
              "    <tr style=\"text-align: right;\">\n",
              "      <th></th>\n",
              "      <th>Hours_of_Study</th>\n",
              "      <th>Attendance_Percentage</th>\n",
              "      <th>Previous_Exam_Scores</th>\n",
              "      <th>Extracurricular_Activities</th>\n",
              "      <th>Travel_Time_to_School</th>\n",
              "      <th>Grades</th>\n",
              "    </tr>\n",
              "  </thead>\n",
              "  <tbody>\n",
              "    <tr>\n",
              "      <th>0</th>\n",
              "      <td>4.370861</td>\n",
              "      <td>75.553988</td>\n",
              "      <td>63.085284</td>\n",
              "      <td>0</td>\n",
              "      <td>24.325977</td>\n",
              "      <td>31.494329</td>\n",
              "    </tr>\n",
              "    <tr>\n",
              "      <th>1</th>\n",
              "      <td>9.556429</td>\n",
              "      <td>86.257028</td>\n",
              "      <td>62.348940</td>\n",
              "      <td>0</td>\n",
              "      <td>50.132016</td>\n",
              "      <td>43.250150</td>\n",
              "    </tr>\n",
              "    <tr>\n",
              "      <th>2</th>\n",
              "      <td>7.587945</td>\n",
              "      <td>96.188375</td>\n",
              "      <td>95.312729</td>\n",
              "      <td>0</td>\n",
              "      <td>59.861895</td>\n",
              "      <td>30.155663</td>\n",
              "    </tr>\n",
              "    <tr>\n",
              "      <th>3</th>\n",
              "      <td>6.387926</td>\n",
              "      <td>91.966747</td>\n",
              "      <td>62.477310</td>\n",
              "      <td>1</td>\n",
              "      <td>11.501300</td>\n",
              "      <td>39.617522</td>\n",
              "    </tr>\n",
              "    <tr>\n",
              "      <th>4</th>\n",
              "      <td>2.404168</td>\n",
              "      <td>94.196834</td>\n",
              "      <td>63.597486</td>\n",
              "      <td>0</td>\n",
              "      <td>54.868293</td>\n",
              "      <td>33.175874</td>\n",
              "    </tr>\n",
              "  </tbody>\n",
              "</table>\n",
              "</div>\n",
              "    <div class=\"colab-df-buttons\">\n",
              "\n",
              "  <div class=\"colab-df-container\">\n",
              "    <button class=\"colab-df-convert\" onclick=\"convertToInteractive('df-13a339c3-aaa5-4799-af33-2f2673d732a6')\"\n",
              "            title=\"Convert this dataframe to an interactive table.\"\n",
              "            style=\"display:none;\">\n",
              "\n",
              "  <svg xmlns=\"http://www.w3.org/2000/svg\" height=\"24px\" viewBox=\"0 -960 960 960\">\n",
              "    <path d=\"M120-120v-720h720v720H120Zm60-500h600v-160H180v160Zm220 220h160v-160H400v160Zm0 220h160v-160H400v160ZM180-400h160v-160H180v160Zm440 0h160v-160H620v160ZM180-180h160v-160H180v160Zm440 0h160v-160H620v160Z\"/>\n",
              "  </svg>\n",
              "    </button>\n",
              "\n",
              "  <style>\n",
              "    .colab-df-container {\n",
              "      display:flex;\n",
              "      gap: 12px;\n",
              "    }\n",
              "\n",
              "    .colab-df-convert {\n",
              "      background-color: #E8F0FE;\n",
              "      border: none;\n",
              "      border-radius: 50%;\n",
              "      cursor: pointer;\n",
              "      display: none;\n",
              "      fill: #1967D2;\n",
              "      height: 32px;\n",
              "      padding: 0 0 0 0;\n",
              "      width: 32px;\n",
              "    }\n",
              "\n",
              "    .colab-df-convert:hover {\n",
              "      background-color: #E2EBFA;\n",
              "      box-shadow: 0px 1px 2px rgba(60, 64, 67, 0.3), 0px 1px 3px 1px rgba(60, 64, 67, 0.15);\n",
              "      fill: #174EA6;\n",
              "    }\n",
              "\n",
              "    .colab-df-buttons div {\n",
              "      margin-bottom: 4px;\n",
              "    }\n",
              "\n",
              "    [theme=dark] .colab-df-convert {\n",
              "      background-color: #3B4455;\n",
              "      fill: #D2E3FC;\n",
              "    }\n",
              "\n",
              "    [theme=dark] .colab-df-convert:hover {\n",
              "      background-color: #434B5C;\n",
              "      box-shadow: 0px 1px 3px 1px rgba(0, 0, 0, 0.15);\n",
              "      filter: drop-shadow(0px 1px 2px rgba(0, 0, 0, 0.3));\n",
              "      fill: #FFFFFF;\n",
              "    }\n",
              "  </style>\n",
              "\n",
              "    <script>\n",
              "      const buttonEl =\n",
              "        document.querySelector('#df-13a339c3-aaa5-4799-af33-2f2673d732a6 button.colab-df-convert');\n",
              "      buttonEl.style.display =\n",
              "        google.colab.kernel.accessAllowed ? 'block' : 'none';\n",
              "\n",
              "      async function convertToInteractive(key) {\n",
              "        const element = document.querySelector('#df-13a339c3-aaa5-4799-af33-2f2673d732a6');\n",
              "        const dataTable =\n",
              "          await google.colab.kernel.invokeFunction('convertToInteractive',\n",
              "                                                    [key], {});\n",
              "        if (!dataTable) return;\n",
              "\n",
              "        const docLinkHtml = 'Like what you see? Visit the ' +\n",
              "          '<a target=\"_blank\" href=https://colab.research.google.com/notebooks/data_table.ipynb>data table notebook</a>'\n",
              "          + ' to learn more about interactive tables.';\n",
              "        element.innerHTML = '';\n",
              "        dataTable['output_type'] = 'display_data';\n",
              "        await google.colab.output.renderOutput(dataTable, element);\n",
              "        const docLink = document.createElement('div');\n",
              "        docLink.innerHTML = docLinkHtml;\n",
              "        element.appendChild(docLink);\n",
              "      }\n",
              "    </script>\n",
              "  </div>\n",
              "\n",
              "\n",
              "<div id=\"df-a451aba8-3e31-49c1-8074-8d00a613308d\">\n",
              "  <button class=\"colab-df-quickchart\" onclick=\"quickchart('df-a451aba8-3e31-49c1-8074-8d00a613308d')\"\n",
              "            title=\"Suggest charts\"\n",
              "            style=\"display:none;\">\n",
              "\n",
              "<svg xmlns=\"http://www.w3.org/2000/svg\" height=\"24px\"viewBox=\"0 0 24 24\"\n",
              "     width=\"24px\">\n",
              "    <g>\n",
              "        <path d=\"M19 3H5c-1.1 0-2 .9-2 2v14c0 1.1.9 2 2 2h14c1.1 0 2-.9 2-2V5c0-1.1-.9-2-2-2zM9 17H7v-7h2v7zm4 0h-2V7h2v10zm4 0h-2v-4h2v4z\"/>\n",
              "    </g>\n",
              "</svg>\n",
              "  </button>\n",
              "\n",
              "<style>\n",
              "  .colab-df-quickchart {\n",
              "      --bg-color: #E8F0FE;\n",
              "      --fill-color: #1967D2;\n",
              "      --hover-bg-color: #E2EBFA;\n",
              "      --hover-fill-color: #174EA6;\n",
              "      --disabled-fill-color: #AAA;\n",
              "      --disabled-bg-color: #DDD;\n",
              "  }\n",
              "\n",
              "  [theme=dark] .colab-df-quickchart {\n",
              "      --bg-color: #3B4455;\n",
              "      --fill-color: #D2E3FC;\n",
              "      --hover-bg-color: #434B5C;\n",
              "      --hover-fill-color: #FFFFFF;\n",
              "      --disabled-bg-color: #3B4455;\n",
              "      --disabled-fill-color: #666;\n",
              "  }\n",
              "\n",
              "  .colab-df-quickchart {\n",
              "    background-color: var(--bg-color);\n",
              "    border: none;\n",
              "    border-radius: 50%;\n",
              "    cursor: pointer;\n",
              "    display: none;\n",
              "    fill: var(--fill-color);\n",
              "    height: 32px;\n",
              "    padding: 0;\n",
              "    width: 32px;\n",
              "  }\n",
              "\n",
              "  .colab-df-quickchart:hover {\n",
              "    background-color: var(--hover-bg-color);\n",
              "    box-shadow: 0 1px 2px rgba(60, 64, 67, 0.3), 0 1px 3px 1px rgba(60, 64, 67, 0.15);\n",
              "    fill: var(--button-hover-fill-color);\n",
              "  }\n",
              "\n",
              "  .colab-df-quickchart-complete:disabled,\n",
              "  .colab-df-quickchart-complete:disabled:hover {\n",
              "    background-color: var(--disabled-bg-color);\n",
              "    fill: var(--disabled-fill-color);\n",
              "    box-shadow: none;\n",
              "  }\n",
              "\n",
              "  .colab-df-spinner {\n",
              "    border: 2px solid var(--fill-color);\n",
              "    border-color: transparent;\n",
              "    border-bottom-color: var(--fill-color);\n",
              "    animation:\n",
              "      spin 1s steps(1) infinite;\n",
              "  }\n",
              "\n",
              "  @keyframes spin {\n",
              "    0% {\n",
              "      border-color: transparent;\n",
              "      border-bottom-color: var(--fill-color);\n",
              "      border-left-color: var(--fill-color);\n",
              "    }\n",
              "    20% {\n",
              "      border-color: transparent;\n",
              "      border-left-color: var(--fill-color);\n",
              "      border-top-color: var(--fill-color);\n",
              "    }\n",
              "    30% {\n",
              "      border-color: transparent;\n",
              "      border-left-color: var(--fill-color);\n",
              "      border-top-color: var(--fill-color);\n",
              "      border-right-color: var(--fill-color);\n",
              "    }\n",
              "    40% {\n",
              "      border-color: transparent;\n",
              "      border-right-color: var(--fill-color);\n",
              "      border-top-color: var(--fill-color);\n",
              "    }\n",
              "    60% {\n",
              "      border-color: transparent;\n",
              "      border-right-color: var(--fill-color);\n",
              "    }\n",
              "    80% {\n",
              "      border-color: transparent;\n",
              "      border-right-color: var(--fill-color);\n",
              "      border-bottom-color: var(--fill-color);\n",
              "    }\n",
              "    90% {\n",
              "      border-color: transparent;\n",
              "      border-bottom-color: var(--fill-color);\n",
              "    }\n",
              "  }\n",
              "</style>\n",
              "\n",
              "  <script>\n",
              "    async function quickchart(key) {\n",
              "      const quickchartButtonEl =\n",
              "        document.querySelector('#' + key + ' button');\n",
              "      quickchartButtonEl.disabled = true;  // To prevent multiple clicks.\n",
              "      quickchartButtonEl.classList.add('colab-df-spinner');\n",
              "      try {\n",
              "        const charts = await google.colab.kernel.invokeFunction(\n",
              "            'suggestCharts', [key], {});\n",
              "      } catch (error) {\n",
              "        console.error('Error during call to suggestCharts:', error);\n",
              "      }\n",
              "      quickchartButtonEl.classList.remove('colab-df-spinner');\n",
              "      quickchartButtonEl.classList.add('colab-df-quickchart-complete');\n",
              "    }\n",
              "    (() => {\n",
              "      let quickchartButtonEl =\n",
              "        document.querySelector('#df-a451aba8-3e31-49c1-8074-8d00a613308d button');\n",
              "      quickchartButtonEl.style.display =\n",
              "        google.colab.kernel.accessAllowed ? 'block' : 'none';\n",
              "    })();\n",
              "  </script>\n",
              "</div>\n",
              "    </div>\n",
              "  </div>\n"
            ],
            "application/vnd.google.colaboratory.intrinsic+json": {
              "type": "dataframe",
              "variable_name": "data",
              "summary": "{\n  \"name\": \"data\",\n  \"rows\": 1000,\n  \"fields\": [\n    {\n      \"column\": \"Hours_of_Study\",\n      \"properties\": {\n        \"dtype\": \"number\",\n        \"std\": 2.629236257527374,\n        \"min\": 1.0416882070414255,\n        \"max\": 9.997459059575176,\n        \"num_unique_values\": 1000,\n        \"samples\": [\n          4.428017709679194,\n          8.349394955244193,\n          5.164118071026458\n        ],\n        \"semantic_type\": \"\",\n        \"description\": \"\"\n      }\n    },\n    {\n      \"column\": \"Attendance_Percentage\",\n      \"properties\": {\n        \"dtype\": \"number\",\n        \"std\": 8.765696802094674,\n        \"min\": 70.09654790812836,\n        \"max\": 99.98241177312,\n        \"num_unique_values\": 1000,\n        \"samples\": [\n          98.03308080416542,\n          75.83867535462295,\n          94.82613686700624\n        ],\n        \"semantic_type\": \"\",\n        \"description\": \"\"\n      }\n    },\n    {\n      \"column\": \"Previous_Exam_Scores\",\n      \"properties\": {\n        \"dtype\": \"number\",\n        \"std\": 14.533709774852394,\n        \"min\": 50.00058173776831,\n        \"max\": 99.89104278409891,\n        \"num_unique_values\": 1000,\n        \"samples\": [\n          56.72175647040609,\n          77.22411664001315,\n          68.28403741306857\n        ],\n        \"semantic_type\": \"\",\n        \"description\": \"\"\n      }\n    },\n    {\n      \"column\": \"Extracurricular_Activities\",\n      \"properties\": {\n        \"dtype\": \"number\",\n        \"std\": 0,\n        \"min\": 0,\n        \"max\": 1,\n        \"num_unique_values\": 2,\n        \"samples\": [\n          1,\n          0\n        ],\n        \"semantic_type\": \"\",\n        \"description\": \"\"\n      }\n    },\n    {\n      \"column\": \"Travel_Time_to_School\",\n      \"properties\": {\n        \"dtype\": \"number\",\n        \"std\": 14.315794287743444,\n        \"min\": 10.00153594226912,\n        \"max\": 59.97788516252193,\n        \"num_unique_values\": 1000,\n        \"samples\": [\n          22.026579259007438,\n          48.32636581108136\n        ],\n        \"semantic_type\": \"\",\n        \"description\": \"\"\n      }\n    },\n    {\n      \"column\": \"Grades\",\n      \"properties\": {\n        \"dtype\": \"number\",\n        \"std\": 7.096682822057182,\n        \"min\": 15.766457044094636,\n        \"max\": 59.55061879483358,\n        \"num_unique_values\": 1000,\n        \"samples\": [\n          37.18827977003046,\n          35.17397729954957\n        ],\n        \"semantic_type\": \"\",\n        \"description\": \"\"\n      }\n    }\n  ]\n}"
            }
          },
          "metadata": {},
          "execution_count": 36
        }
      ]
    },
    {
      "cell_type": "markdown",
      "source": [
        "# **3. Visualizing  the Data**\n",
        "\n",
        "1.  attendance - grades\n",
        "\n"
      ],
      "metadata": {
        "id": "x578qFzNwTAF"
      }
    },
    {
      "cell_type": "code",
      "source": [
        "\n",
        "plt.scatter(data['Attendance_Percentage'], data['Grades'])\n",
        "plt.xlabel('Attendance_Percentage')\n",
        "plt.ylabel('Grades')\n",
        "plt.title ('Effect of Attendance in Grades')\n",
        "plt.show()"
      ],
      "metadata": {
        "colab": {
          "base_uri": "https://localhost:8080/",
          "height": 472
        },
        "id": "Zs_YSf_kwYvO",
        "outputId": "18693ffb-2e92-4988-d40a-706fc717cea0"
      },
      "execution_count": null,
      "outputs": [
        {
          "output_type": "display_data",
          "data": {
            "text/plain": [
              "<Figure size 640x480 with 1 Axes>"
            ],
            "image/png": "[encoded data removed]"
          },
          "metadata": {}
        }
      ]
    },
    {
      "cell_type": "markdown",
      "source": [
        "# **4. Preparing Data for Modeling**"
      ],
      "metadata": {
        "id": "wEoHS6Q7x2Rp"
      }
    },
    {
      "cell_type": "code",
      "source": [
        "X = data[['Hours_of_Study','Attendance_Percentage', 'Previous_Exam_Scores','Extracurricular_Activities','Travel_Time_to_School']]\n",
        "Y = data[['Grades']]\n",
        "\n",
        "print(X)"
      ],
      "metadata": {
        "id": "BR4_WFrUx9I5",
        "colab": {
          "base_uri": "https://localhost:8080/"
        },
        "outputId": "1bc1dccf-d9ba-4806-922d-3590dd0b042d"
      },
      "execution_count": null,
      "outputs": [
        {
          "output_type": "stream",
          "name": "stdout",
          "text": [
            "     Hours_of_Study  Attendance_Percentage  Previous_Exam_Scores  \\\n",
            "0          4.370861              75.553988             63.085284   \n",
            "1          9.556429              86.257028             62.348940   \n",
            "2          7.587945              96.188375             95.312729   \n",
            "3          6.387926              91.966747             62.477310   \n",
            "4          2.404168              94.196834             63.597486   \n",
            "..              ...                    ...                   ...   \n",
            "995        1.824239              89.708655             93.264788   \n",
            "996        9.255822              98.698439             57.863660   \n",
            "997        2.231368              72.068740             65.489393   \n",
            "998        9.552136              71.711642             64.502277   \n",
            "999        5.014052              78.465612             93.570702   \n",
            "\n",
            "     Extracurricular_Activities  Travel_Time_to_School  \n",
            "0                             0              24.325977  \n",
            "1                             0              50.132016  \n",
            "2                             0              59.861895  \n",
            "3                             1              11.501300  \n",
            "4                             0              54.868293  \n",
            "..                          ...                    ...  \n",
            "995                           1              40.505396  \n",
            "996                           1              34.408884  \n",
            "997                           0              16.659106  \n",
            "998                           0              23.066651  \n",
            "999                           0              30.954974  \n",
            "\n",
            "[1000 rows x 5 columns]\n"
          ]
        }
      ]
    },
    {
      "cell_type": "markdown",
      "source": [
        "#**5. Train and Split Data**"
      ],
      "metadata": {
        "id": "sj2kM5stcFk8"
      }
    },
    {
      "cell_type": "code",
      "source": [
        "X_train,X_test, y_train, y_test = train_test_split  (X,Y,test_size = 0.1, random_state = 50)\n"
      ],
      "metadata": {
        "id": "YvC1nyv7cKXb"
      },
      "execution_count": null,
      "outputs": []
    },
    {
      "cell_type": "markdown",
      "source": [
        "# **6. Fitting the Linear Regression Model**"
      ],
      "metadata": {
        "id": "uYfNkj-cygD7"
      }
    },
    {
      "cell_type": "code",
      "source": [
        "model = LinearRegression()\n",
        "model.fit(X_train,y_train)"
      ],
      "metadata": {
        "colab": {
          "base_uri": "https://localhost:8080/",
          "height": 75
        },
        "id": "V42jsCj2yoW9",
        "outputId": "402ab1e5-25da-4a9a-e6a1-b2cff557f99a"
      },
      "execution_count": null,
      "outputs": [
        {
          "output_type": "execute_result",
          "data": {
            "text/plain": [
              "LinearRegression()"
            ],
            "text/html": [
              "<style>#sk-container-id-11 {color: black;background-color: white;}#sk-container-id-11 pre{padding: 0;}#sk-container-id-11 div.sk-toggleable {background-color: white;}#sk-container-id-11 label.sk-toggleable__label {cursor: pointer;display: block;width: 100%;margin-bottom: 0;padding: 0.3em;box-sizing: border-box;text-align: center;}#sk-container-id-11 label.sk-toggleable__label-arrow:before {content: \"▸\";float: left;margin-right: 0.25em;color: #696969;}#sk-container-id-11 label.sk-toggleable__label-arrow:hover:before {color: black;}#sk-container-id-11 div.sk-estimator:hover label.sk-toggleable__label-arrow:before {color: black;}#sk-container-id-11 div.sk-toggleable__content {max-height: 0;max-width: 0;overflow: hidden;text-align: left;background-color: #f0f8ff;}#sk-container-id-11 div.sk-toggleable__content pre {margin: 0.2em;color: black;border-radius: 0.25em;background-color: #f0f8ff;}#sk-container-id-11 input.sk-toggleable__control:checked~div.sk-toggleable__content {max-height: 200px;max-width: 100%;overflow: auto;}#sk-container-id-11 input.sk-toggleable__control:checked~label.sk-toggleable__label-arrow:before {content: \"▾\";}#sk-container-id-11 div.sk-estimator input.sk-toggleable__control:checked~label.sk-toggleable__label {background-color: #d4ebff;}#sk-container-id-11 div.sk-label input.sk-toggleable__control:checked~label.sk-toggleable__label {background-color: #d4ebff;}#sk-container-id-11 input.sk-hidden--visually {border: 0;clip: rect(1px 1px 1px 1px);clip: rect(1px, 1px, 1px, 1px);height: 1px;margin: -1px;overflow: hidden;padding: 0;position: absolute;width: 1px;}#sk-container-id-11 div.sk-estimator {font-family: monospace;background-color: #f0f8ff;border: 1px dotted black;border-radius: 0.25em;box-sizing: border-box;margin-bottom: 0.5em;}#sk-container-id-11 div.sk-estimator:hover {background-color: #d4ebff;}#sk-container-id-11 div.sk-parallel-item::after {content: \"\";width: 100%;border-bottom: 1px solid gray;flex-grow: 1;}#sk-container-id-11 div.sk-label:hover label.sk-toggleable__label {background-color: #d4ebff;}#sk-container-id-11 div.sk-serial::before {content: \"\";position: absolute;border-left: 1px solid gray;box-sizing: border-box;top: 0;bottom: 0;left: 50%;z-index: 0;}#sk-container-id-11 div.sk-serial {display: flex;flex-direction: column;align-items: center;background-color: white;padding-right: 0.2em;padding-left: 0.2em;position: relative;}#sk-container-id-11 div.sk-item {position: relative;z-index: 1;}#sk-container-id-11 div.sk-parallel {display: flex;align-items: stretch;justify-content: center;background-color: white;position: relative;}#sk-container-id-11 div.sk-item::before, #sk-container-id-11 div.sk-parallel-item::before {content: \"\";position: absolute;border-left: 1px solid gray;box-sizing: border-box;top: 0;bottom: 0;left: 50%;z-index: -1;}#sk-container-id-11 div.sk-parallel-item {display: flex;flex-direction: column;z-index: 1;position: relative;background-color: white;}#sk-container-id-11 div.sk-parallel-item:first-child::after {align-self: flex-end;width: 50%;}#sk-container-id-11 div.sk-parallel-item:last-child::after {align-self: flex-start;width: 50%;}#sk-container-id-11 div.sk-parallel-item:only-child::after {width: 0;}#sk-container-id-11 div.sk-dashed-wrapped {border: 1px dashed gray;margin: 0 0.4em 0.5em 0.4em;box-sizing: border-box;padding-bottom: 0.4em;background-color: white;}#sk-container-id-11 div.sk-label label {font-family: monospace;font-weight: bold;display: inline-block;line-height: 1.2em;}#sk-container-id-11 div.sk-label-container {text-align: center;}#sk-container-id-11 div.sk-container {/* jupyter's `normalize.less` sets `[hidden] { display: none; }` but bootstrap.min.css set `[hidden] { display: none !important; }` so we also need the `!important` here to be able to override the default hidden behavior on the sphinx rendered scikit-learn.org. See: https://github.com/scikit-learn/scikit-learn/issues/21755 */display: inline-block !important;position: relative;}#sk-container-id-11 div.sk-text-repr-fallback {display: none;}</style><div id=\"sk-container-id-11\" class=\"sk-top-container\"><div class=\"sk-text-repr-fallback\"><pre>LinearRegression()</pre><b>In a Jupyter environment, please rerun this cell to show the HTML representation or trust the notebook. <br />On GitHub, the HTML representation is unable to render, please try loading this page with nbviewer.org.</b></div><div class=\"sk-container\" hidden><div class=\"sk-item\"><div class=\"sk-estimator sk-toggleable\"><input class=\"sk-toggleable__control sk-hidden--visually\" id=\"sk-estimator-id-11\" type=\"checkbox\" checked><label for=\"sk-estimator-id-11\" class=\"sk-toggleable__label sk-toggleable__label-arrow\">LinearRegression</label><div class=\"sk-toggleable__content\"><pre>LinearRegression()</pre></div></div></div></div></div>"
            ]
          },
          "metadata": {},
          "execution_count": 85
        }
      ]
    },
    {
      "cell_type": "markdown",
      "source": [
        "# **7. Making Prediction**"
      ],
      "metadata": {
        "id": "QqkZvAiS2hjB"
      }
    },
    {
      "cell_type": "code",
      "source": [
        "predicted_Y = model.predict(X_test)\n",
        "print(f'Predicted Value of: {predicted_Y}')"
      ],
      "metadata": {
        "colab": {
          "base_uri": "https://localhost:8080/"
        },
        "id": "v46JUmDe2o2_",
        "outputId": "4d7638ee-d222-4181-c095-a3d98e8d9d12"
      },
      "execution_count": null,
      "outputs": [
        {
          "output_type": "stream",
          "name": "stdout",
          "text": [
            "Predicted Value of: [[36.43048994]\n",
            " [39.5662787 ]\n",
            " [35.37547756]\n",
            " [34.63678389]\n",
            " [43.10129727]\n",
            " [33.6480436 ]\n",
            " [36.45352424]\n",
            " [26.9148381 ]\n",
            " [40.7473585 ]\n",
            " [29.73946293]\n",
            " [47.86387462]\n",
            " [30.01070042]\n",
            " [37.1347101 ]\n",
            " [29.10956682]\n",
            " [42.67176838]\n",
            " [37.92462658]\n",
            " [37.92799465]\n",
            " [36.28220787]\n",
            " [42.85829878]\n",
            " [27.96575507]\n",
            " [43.75251508]\n",
            " [35.61247068]\n",
            " [39.24977959]\n",
            " [28.4012474 ]\n",
            " [34.2895736 ]\n",
            " [34.2455875 ]\n",
            " [38.03579422]\n",
            " [39.33135203]\n",
            " [32.15122513]\n",
            " [37.20230254]\n",
            " [28.90088094]\n",
            " [39.56122978]\n",
            " [38.68920846]\n",
            " [39.05620598]\n",
            " [41.71090689]\n",
            " [38.69839578]\n",
            " [27.96438647]\n",
            " [37.57233292]\n",
            " [31.69162755]\n",
            " [39.27433314]\n",
            " [36.80803503]\n",
            " [33.78952977]\n",
            " [47.47524942]\n",
            " [45.74431964]\n",
            " [32.72001065]\n",
            " [36.09042512]\n",
            " [31.61694561]\n",
            " [35.17126909]\n",
            " [31.49652452]\n",
            " [33.67753868]\n",
            " [43.91222185]\n",
            " [33.56713974]\n",
            " [41.83044299]\n",
            " [37.61323348]\n",
            " [26.36987102]\n",
            " [37.44359615]\n",
            " [30.65768998]\n",
            " [41.80014336]\n",
            " [32.19171006]\n",
            " [42.8241414 ]\n",
            " [33.58620473]\n",
            " [35.36492217]\n",
            " [28.74519491]\n",
            " [29.76549348]\n",
            " [33.56310505]\n",
            " [37.98687864]\n",
            " [41.74288332]\n",
            " [28.79513255]\n",
            " [47.79523205]\n",
            " [40.54995434]\n",
            " [35.68730339]\n",
            " [32.5785122 ]\n",
            " [40.95312695]\n",
            " [31.72774312]\n",
            " [39.09127799]\n",
            " [30.95348998]\n",
            " [34.20429929]\n",
            " [32.9636186 ]\n",
            " [40.67963816]\n",
            " [37.38399967]\n",
            " [29.79552   ]\n",
            " [34.69709879]\n",
            " [36.16037484]\n",
            " [42.18932336]\n",
            " [39.11264366]\n",
            " [26.44682909]\n",
            " [41.44684035]\n",
            " [48.71569522]\n",
            " [34.4005588 ]\n",
            " [39.42469975]\n",
            " [33.48015074]\n",
            " [39.50359205]\n",
            " [39.03756772]\n",
            " [39.34496336]\n",
            " [35.47545222]\n",
            " [41.08236373]\n",
            " [36.05406143]\n",
            " [39.8555177 ]\n",
            " [31.61425832]\n",
            " [39.12252983]]\n"
          ]
        }
      ]
    },
    {
      "cell_type": "markdown",
      "source": [
        "# **8. Mean Squared Error**"
      ],
      "metadata": {
        "id": "horaQVh0dqwA"
      }
    },
    {
      "cell_type": "code",
      "source": [
        "mse = mean_squared_error(y_test, predicted_Y)\n",
        "\n",
        "print(mse)"
      ],
      "metadata": {
        "colab": {
          "base_uri": "https://localhost:8080/"
        },
        "id": "JcFs0vMzd1wU",
        "outputId": "e2f28dc5-b3f8-4d70-99de-258f74be2e0d"
      },
      "execution_count": null,
      "outputs": [
        {
          "output_type": "stream",
          "name": "stdout",
          "text": [
            "19.37213004618227\n"
          ]
        }
      ]
    },
    {
      "cell_type": "markdown",
      "source": [
        "# **NEW**"
      ],
      "metadata": {
        "id": "Owhia2E_hgOJ"
      }
    },
    {
      "cell_type": "code",
      "source": [
        "new_data = np.array([[5,90,80,0,30]])\n",
        "prediction = model.predict(new_data)\n",
        "\n",
        "grade = (prediction/60) * 100\n",
        "print(f'Predicted Grade: {prediction[0]}')\n",
        "print(f'Grade: {grade[0]}')"
      ],
      "metadata": {
        "colab": {
          "base_uri": "https://localhost:8080/"
        },
        "id": "Sylz70wPhml3",
        "outputId": "02695894-4724-4aa1-a7ca-e81cb809fc5e"
      },
      "execution_count": null,
      "outputs": [
        {
          "output_type": "stream",
          "name": "stdout",
          "text": [
            "Predicted Grade: [36.39565165]\n",
            "Grade: [60.65941941]\n"
          ]
        },
        {
          "output_type": "stream",
          "name": "stderr",
          "text": [
            "/usr/local/lib/python3.10/dist-packages/sklearn/base.py:439: UserWarning: X does not have valid feature names, but LinearRegression was fitted with feature names\n",
            "  warnings.warn(\n"
          ]
        }
      ]
    }
  ]
}